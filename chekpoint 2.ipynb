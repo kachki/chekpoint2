{
 "cells": [
  {
   "cell_type": "code",
   "execution_count": 15,
   "id": "76ca65ff",
   "metadata": {},
   "outputs": [
    {
     "name": "stdout",
     "output_type": "stream",
     "text": [
      "ton age stp:kenza \n",
      "ton nom stp:achki\n",
      "['achki', 'kenza ']\n"
     ]
    }
   ],
   "source": [
    "a=input(\"ton age stp:\")\n",
    "n=input(\"ton nom stp:\")\n",
    "e=[n,a]\n",
    "print(e)"
   ]
  },
  {
   "cell_type": "code",
   "execution_count": 8,
   "id": "73659013",
   "metadata": {},
   "outputs": [
    {
     "name": "stdout",
     "output_type": "stream",
     "text": [
      "saisi un nombre5\n",
      "5\n",
      "55\n",
      "555\n",
      "615\n"
     ]
    }
   ],
   "source": [
    "n=int(input('saisi un nombre'))\n",
    "s=0\n",
    "for i in range(3):\n",
    "    a=str(n)*(i+1)\n",
    "    s=s+int(a)\n",
    "    print (a)\n",
    "    \n",
    "print(s)"
   ]
  },
  {
   "cell_type": "code",
   "execution_count": 1,
   "id": "9785ac74",
   "metadata": {},
   "outputs": [
    {
     "name": "stdout",
     "output_type": "stream",
     "text": [
      "saisir un nombre12\n",
      "votre nombre est paire\n"
     ]
    }
   ],
   "source": [
    "n=int(input(\"saisir un nombre\"))\n",
    "if n%2==0:\n",
    "    print(\"votre nombre est paire\")\n",
    "else:\n",
    "    print(\"votre nombre est impaire\")"
   ]
  },
  {
   "cell_type": "code",
   "execution_count": 2,
   "id": "ff4f1be6",
   "metadata": {},
   "outputs": [
    {
     "name": "stdout",
     "output_type": "stream",
     "text": [
      "2002 /2009 /2016 /2023 /2037 /2044 /2051 /2058 /2072 /2079 /2086 /2093 /2107 /2114 /2121 /2128 /2142 /2149 /2156 /2163 /2177 /2184 /2191 /2198 /2212 /2219 /2226 /2233 /2247 /2254 /2261 /2268 /2282 /2289 /2296 /2303 /2317 /2324 /2331 /2338 /2352 /2359 /2366 /2373 /2387 /2394 /2401 /2408 /2422 /2429 /2436 /2443 /2457 /2464 /2471 /2478 /2492 /2499 /2506 /2513 /2527 /2534 /2541 /2548 /2562 /2569 /2576 /2583 /2597 /2604 /2611 /2618 /2632 /2639 /2646 /2653 /2667 /2674 /2681 /2688 /2702 /2709 /2716 /2723 /2737 /2744 /2751 /2758 /2772 /2779 /2786 /2793 /2807 /2814 /2821 /2828 /2842 /2849 /2856 /2863 /2877 /2884 /2891 /2898 /2912 /2919 /2926 /2933 /2947 /2954 /2961 /2968 /2982 /2989 /2996 /3003 /3017 /3024 /3031 /3038 /3052 /3059 /3066 /3073 /3087 /3094 /3101 /3108 /3122 /3129 /3136 /3143 /3157 /3164 /3171 /3178 /3192 /3199 /"
     ]
    }
   ],
   "source": [
    "for i in range (2000,3201):\n",
    "    p1=i%7==0  \n",
    "    p2=i%5!=0\n",
    "    if p1 and p2:\n",
    "        print(i,end=' /') #end= ramene tout sur la meme ligne \n",
    "        "
   ]
  },
  {
   "cell_type": "code",
   "execution_count": 3,
   "id": "a2b20974",
   "metadata": {},
   "outputs": [
    {
     "name": "stdout",
     "output_type": "stream",
     "text": [
      "1 x 2 x 3 x 4 x 24\n"
     ]
    }
   ],
   "source": [
    "n=4\n",
    "f=1\n",
    "for i in range(n):\n",
    "    f=f*(i+1)\n",
    "    print(i+1, end=\" x \")\n",
    "print(f)"
   ]
  },
  {
   "cell_type": "code",
   "execution_count": 4,
   "id": "0a6c4d8a",
   "metadata": {},
   "outputs": [
    {
     "name": "stdout",
     "output_type": "stream",
     "text": [
      "hlota\n"
     ]
    }
   ],
   "source": [
    "n=\"hello team\"\n",
    "f=''\n",
    "for i in range(0,len(n),2):\n",
    "    f=f+n[i]\n",
    "    \n",
    "print(f)"
   ]
  },
  {
   "cell_type": "code",
   "execution_count": 5,
   "id": "48530d52",
   "metadata": {},
   "outputs": [
    {
     "name": "stdout",
     "output_type": "stream",
     "text": [
      "saisir le prix inicial500\n",
      "voici votre prix final: 250.0\n"
     ]
    }
   ],
   "source": [
    "n=int(input(\"saisir le prix inicial\"))\n",
    "if n<200:\n",
    "    p=n*(0.9)\n",
    "elif n<500:\n",
    "    p=n*(0.7)\n",
    "else :\n",
    "    p=n*(0.5)\n",
    "print(\"voici votre prix final:\", p)"
   ]
  }
 ],
 "metadata": {
  "kernelspec": {
   "display_name": "Python 3 (ipykernel)",
   "language": "python",
   "name": "python3"
  },
  "language_info": {
   "codemirror_mode": {
    "name": "ipython",
    "version": 3
   },
   "file_extension": ".py",
   "mimetype": "text/x-python",
   "name": "python",
   "nbconvert_exporter": "python",
   "pygments_lexer": "ipython3",
   "version": "3.9.12"
  }
 },
 "nbformat": 4,
 "nbformat_minor": 5
}
